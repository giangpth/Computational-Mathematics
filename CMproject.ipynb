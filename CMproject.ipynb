{
 "cells": [
  {
   "cell_type": "code",
   "execution_count": 13,
   "metadata": {},
   "outputs": [],
   "source": [
    "# cell 1\n",
    "import numpy as np\n",
    "import math\n",
    "from scipy.stats import ortho_group # for generate input data \n",
    "import time \n",
    "import random \n",
    "debug = False"
   ]
  },
  {
   "cell_type": "markdown",
   "metadata": {},
   "source": [
    "## Cholesky factorization"
   ]
  },
  {
   "cell_type": "markdown",
   "metadata": {},
   "source": [
    "Funtion to calculate Cholesky Factorization\n",
    "Given the input:\\\n",
    "$\\;\\;\\;\\;\\;\\;$ 1. Matrix X is symmetric and square.\\\n",
    "Return:\\\n",
    "$\\;\\;\\;\\;\\;\\;$ 1. Lower triangular matrix R has the same size with the input X"
   ]
  },
  {
   "cell_type": "code",
   "execution_count": 14,
   "metadata": {},
   "outputs": [],
   "source": [
    "# cell 2\n",
    "def chol(X):\n",
    "    n, m = X.shape\n",
    "    R = np.zeros(n*n)\n",
    "    if m != n: \n",
    "        print('Matrix to process Chol is not square')\n",
    "        return np.zeros([n, n])\n",
    "    \n",
    "    for i in range(n):\n",
    "        r = i*n\n",
    "        for j in range(i):\n",
    "            c = j*n\n",
    "            R[r+j] = (X[i][j] - sum(np.multiply(R[r:r+j], R[c:c+j])))/R[c+j]\n",
    "            \n",
    "        tem1 = X[i][i] - sum(np.multiply(R[r:r+i], R[r:r+i]))\n",
    "        if tem1 < 0:\n",
    "            print('Cholesky: Matrix is not posdef')\n",
    "            return np.zeros([n, n])\n",
    "        R[r+i] = math.sqrt(tem1)\n",
    "        \n",
    "    return np.reshape(R, [n,n])"
   ]
  },
  {
   "cell_type": "markdown",
   "metadata": {},
   "source": [
    "## Solving lower triangular system "
   ]
  },
  {
   "cell_type": "markdown",
   "metadata": {},
   "source": [
    "Function to solve lower triangular system R'y = M'b\\\n",
    "Input: \\\n",
    "$\\;\\;\\;\\;\\;\\;$ 1. Lower triangular matrix R' size kxk \\\n",
    "$\\;\\;\\;\\;\\;\\;$ 2. Matrix M' size kxn (or kxm) \\\n",
    "$\\;\\;\\;\\;\\;\\;$ 3. Vector b size nx1 (or mx1) \\\n",
    "Output: \\\n",
    "$\\;\\;\\;\\;\\;\\;$ A vector y size kx1 \n"
   ]
  },
  {
   "cell_type": "code",
   "execution_count": 15,
   "metadata": {},
   "outputs": [],
   "source": [
    "# cell 3\n",
    "def slts(R, Mt, b):\n",
    "    #calculate M'b\n",
    "    n, m = R.shape\n",
    "    p, q = Mt.shape\n",
    "    g = b.shape[0]\n",
    "    \n",
    "    if m != n or n != p or q != g: \n",
    "        print('SLTS function: size of matrixes is  not comparitible')\n",
    "        if debug:\n",
    "            print(m, n, p, q, g)\n",
    "        return np.zeros(n)\n",
    "    \n",
    "    v = np.matmul(Mt, b)\n",
    "    \n",
    "    y = np.zeros(n)\n",
    "    \n",
    "    Rtem = np.reshape(R, n*m)\n",
    "    \n",
    "    for i in range(n):\n",
    "        r = i*n\n",
    "        R1 = Rtem[r:r+i]\n",
    "        ytem = y[0:i]\n",
    "        y[i]= (v[i] - sum(np.multiply(R1, ytem)))/R[i][i]\n",
    "    return y"
   ]
  },
  {
   "cell_type": "markdown",
   "metadata": {},
   "source": [
    "## Solving upper triangular system "
   ]
  },
  {
   "cell_type": "markdown",
   "metadata": {},
   "source": [
    "Function to solve upper triangular system Rx = y \\\n",
    "Input: \\\n",
    "$\\;\\;\\;\\;\\;\\;$ 1. Upper triangular matrix R size kxk \\\n",
    "$\\;\\;\\;\\;\\;\\;$ 2. Vector y size kx1 \\\n",
    "Output: \\\n",
    "$\\;\\;\\;\\;\\;\\;$ Vector x size kx1"
   ]
  },
  {
   "cell_type": "code",
   "execution_count": 16,
   "metadata": {},
   "outputs": [],
   "source": [
    "# cell 4\n",
    "def suts (Rt, y):\n",
    "    n, m = Rt.shape\n",
    "    g = y.shape[0]\n",
    "    \n",
    "    if n != m or n != g:\n",
    "        print('SUTS function: size of matrixes is  not comparitible')\n",
    "    \n",
    "    x = np.zeros(n)\n",
    "    Rtem = np.reshape(Rt, n*m)\n",
    "    for i in reversed(range(n)):\n",
    "        r = i*n\n",
    "        R1 = Rtem[r+i+1:r+n]\n",
    "        xtem = x[i+1:n]\n",
    "        x[i] = (y[i] - sum(np.multiply(R1, xtem)))/Rt[i][i]\n",
    "    return x"
   ]
  },
  {
   "cell_type": "markdown",
   "metadata": {},
   "source": [
    "## Finding solution for the subproblem "
   ]
  },
  {
   "cell_type": "code",
   "execution_count": 17,
   "metadata": {},
   "outputs": [],
   "source": [
    "# cell 5\n",
    "def argmin(A, M):\n",
    "    \n",
    "    m, n = A.shape # mxn or nxm\n",
    "    h, k = M.shape # nxk or mxk\n",
    "    \n",
    "    if n != h:\n",
    "        print(\"ARGMIN function: size of matrixes is not compatible\")\n",
    "    \n",
    "    N = []\n",
    "    # calculate M'*M\n",
    "    Mt = M.transpose() #kxn\n",
    "    X = np.matmul(Mt, M) #kxk\n",
    "    \n",
    "    start = time.time()\n",
    "    R = chol(X) # find cholesky factor of M'M, R is a lower triangular matrix size kxk\n",
    "    stop1 = time.time()\n",
    "    Rt = R.transpose()\n",
    "    \n",
    "    \n",
    "    for i in range(m):\n",
    "        b = A[i] #1xn\n",
    "        y = slts(R, Mt, b) #kx1\n",
    "        x = suts(Rt, y) #kx1\n",
    "        xt = np.squeeze(x)\n",
    "        N.append(xt)\n",
    "    \n",
    "    stop2 = time.time()\n",
    "    if debug:\n",
    "        print(\"Runtime of chol in argmin: \", stop1 - start)\n",
    "        print(\"Time to solve linear system: \", stop2 - stop1)\n",
    "    N = np.array(N)\n",
    "    return N"
   ]
  },
  {
   "cell_type": "markdown",
   "metadata": {},
   "source": [
    "## Main function"
   ]
  },
  {
   "cell_type": "markdown",
   "metadata": {},
   "source": [
    "Main function of the algorithm. \\\n",
    "Given the input:\\\n",
    "$\\;\\;\\;\\;\\;\\;$ 1. Matrix A is full rank with size mxn.\\\n",
    "$\\;\\;\\;\\;\\;\\;$ 2. The expected rank k \\\n",
    "$\\;\\;\\;\\;\\;\\;$ 3. Maximun number of iteration t \\\n",
    "$\\;\\;\\;\\;\\;\\;$ 4. Threshold ep = ||UV_old - UV|| \\\n",
    "Return:\\\n",
    "$\\;\\;\\;\\;\\;\\;$ 2 matrix U size mxk and V size kxn"
   ]
  },
  {
   "cell_type": "code",
   "execution_count": 6,
   "metadata": {},
   "outputs": [],
   "source": [
    "#  cell 6\n",
    "def lrd (A, k, t, ep):\n",
    "    # get size of matrix A\n",
    "    m, n = A.shape\n",
    "    \n",
    "    if k > min(m, n):\n",
    "        print(\"k is greater than rank(A)\")\n",
    "        return\n",
    "    \n",
    "    # generate randomly matrix V\n",
    "    V = np.random.rand(k, n)\n",
    "    U = np.zeros([m, k])\n",
    "        \n",
    "    Vt = V.transpose()\n",
    "    At = A.transpose()\n",
    "    \n",
    "    UVold = np.zeros(A.shape)\n",
    "    \n",
    "    avetime = 0\n",
    "    \n",
    "    for i in range(t):   \n",
    "        # iterate to optimize U and V\n",
    "        start = time.time()\n",
    "        U = argmin(A, Vt)\n",
    "        Vt = argmin(At, U)\n",
    "        V = Vt.transpose()\n",
    "        \n",
    "        #check for stop condition\n",
    "        UV = np.matmul(U, V)\n",
    "        e = np.linalg.norm(UV - UVold)\n",
    "        UVold = np.matmul(U, V)\n",
    "        stop2 = time.time()\n",
    "        avetime += stop2 - start\n",
    "        print(i, \"\\t\", e, \"\\t\", np.linalg.norm(A - UV, 2))\n",
    "        \n",
    "        if debug:\n",
    "            print(\"Time argmin: \", stop1 - start)\n",
    "            print(\"Time of the rest: \", stop2 - stop1)\n",
    "            \n",
    "        if e <= ep:\n",
    "            print('LRD: Reach stopping condition')\n",
    "            break     \n",
    "    print(\"Number of iter: \", i)      \n",
    "    print(\"Final err: \" , e)\n",
    "    print(\"Average time for each iter: \", avetime/i)\n",
    "    return U, V\n",
    "        "
   ]
  },
  {
   "cell_type": "markdown",
   "metadata": {},
   "source": [
    "## Generate data"
   ]
  },
  {
   "cell_type": "markdown",
   "metadata": {},
   "source": [
    "Generate data function. \\\n",
    "Given the input:\\\n",
    "$\\;\\;\\;\\;\\;\\;$ 1. m \\\n",
    "$\\;\\;\\;\\;\\;\\;$ 2. n \\\n",
    "$\\;\\;\\;\\;\\;\\;$ 3. k \\\n",
    "Return:\\\n",
    "$\\;\\;\\;\\;\\;\\;$ A full rank matrix A \\\n",
    "This function also gives us the information of the k-th singular value of matrix A"
   ]
  },
  {
   "cell_type": "code",
   "execution_count": 7,
   "metadata": {
    "scrolled": false
   },
   "outputs": [],
   "source": [
    "# cell 7\n",
    "def gendata(m, n, k):\n",
    "    if k > min(m, n):\n",
    "        print(\"k is greater than rank(A)\")\n",
    "        return\n",
    "\n",
    "    # using SVD to generate full rank matrix A \n",
    "    U_SVD = ortho_group.rvs(dim=m)\n",
    "\n",
    "    V_SVD = ortho_group.rvs(dim=n)\n",
    "    V_SVDT = np.transpose(V_SVD)\n",
    "\n",
    "    sig = []\n",
    "    for i in range(min(m, n)):\n",
    "        x = random.random()\n",
    "        sig.append(x*50)\n",
    "\n",
    "    sig.sort(reverse=True)\n",
    "\n",
    "\n",
    "    Sigma = np.zeros([m, n])\n",
    "    for i in range(len(sig)):\n",
    "        Sigma[i][i] = sig[i]\n",
    "\n",
    "\n",
    "    print(\"k-th singular value of A \", sig[k])\n",
    "\n",
    "    A = np.matmul(np.matmul(U_SVD, Sigma), V_SVDT)\n",
    "    return A"
   ]
  },
  {
   "cell_type": "code",
   "execution_count": null,
   "metadata": {
    "scrolled": false
   },
   "outputs": [],
   "source": [
    "# cell 8 \n",
    "m = 100\n",
    "n = 100\n",
    "k = 10\n",
    "A = gendata(m, n, k)\n",
    "U, V = lrd(A, k, 1000, 0.0001)\n",
    "print(\"||A-UV||2 = \", np.linalg.norm(A - np.matmul(U, V), 2))"
   ]
  },
  {
   "cell_type": "markdown",
   "metadata": {},
   "source": [
    "# Testing part"
   ]
  },
  {
   "cell_type": "markdown",
   "metadata": {},
   "source": [
    "## Test the precision of functions"
   ]
  },
  {
   "cell_type": "markdown",
   "metadata": {},
   "source": [
    "We calculate norm to verify the precision of our functions "
   ]
  },
  {
   "cell_type": "code",
   "execution_count": 8,
   "metadata": {},
   "outputs": [
    {
     "name": "stdout",
     "output_type": "stream",
     "text": [
      "(480, 375)\n",
      "Builtin function:  0.017323017120361328\n",
      "Our function chol:  2.0304698944091797\n",
      "Error of Cholesky:  2.8701393228849516e-14\n",
      "Error of lower triangular system:  9.170705556512418e-14\n",
      "Time of lts:  0.01717209815979004\n",
      "Error of upper triangular system:  4.900386781992903e-15\n",
      "Running time of uts:  0.01717662811279297\n"
     ]
    }
   ],
   "source": [
    "mt = random.randint(100, 1000)\n",
    "nt = random.randint(100, 1000)\n",
    "\n",
    "TM = np.random.rand(mt,nt)\n",
    "TMt = np.transpose(TM)\n",
    "TMC = np.matmul(TMt, TM)\n",
    "print(TM.shape)\n",
    "\n",
    "start2 = time.time()\n",
    "Lowerl = np.linalg.cholesky(TMC)\n",
    "stop2 = time.time()\n",
    "print(\"Builtin function: \", stop2 - start2)\n",
    "\n",
    "# Test Cholesky\n",
    "start1 = time.time()\n",
    "Lower = chol(TMC)\n",
    "stop1 = time.time()\n",
    "print(\"Our function chol: \", stop1 - start1)\n",
    "\n",
    "\n",
    "Upper = np.transpose(Lower) \n",
    "LU = np.matmul(Lower, Upper)\n",
    "D = TMC - LU\n",
    "print(\"Error of Cholesky: \", np.linalg.norm(D)/np.linalg.norm(Lower))\n",
    "\n",
    "# print(\"Compare error with builin function\", np.linalg.norm(Lower - Lowerl))\n",
    "\n",
    "# Test lts\n",
    "bt = np.random.rand(mt)\n",
    "\n",
    "lstart = time.time()\n",
    "yt = slts(Lower, TMt, bt)\n",
    "lstop = time.time()\n",
    "\n",
    "Ll = np.matmul(Lower, yt)\n",
    "Rl = np.matmul(TMt, bt)\n",
    "Dl = Ll - Rl\n",
    "print (\"Error of lower triangular system: \", np.linalg.norm(Dl)/np.linalg.norm(yt))\n",
    "print (\"Time of lts: \", lstop - lstart)\n",
    "\n",
    "# Test uts \n",
    "ustart = time.time()\n",
    "xt = suts(Upper, yt)\n",
    "ustop = time.time() \n",
    "\n",
    "Lu = np.matmul(Upper, xt)\n",
    "Du = Lu - yt\n",
    "print(\"Error of upper triangular system: \", np.linalg.norm(Du)/np.linalg.norm(xt))\n",
    "print(\"Running time of uts: \", ustop - ustart)"
   ]
  },
  {
   "cell_type": "markdown",
   "metadata": {},
   "source": [
    "## Test running time and scale of Cholesky function"
   ]
  },
  {
   "cell_type": "code",
   "execution_count": null,
   "metadata": {
    "scrolled": false
   },
   "outputs": [],
   "source": [
    "for i in range(10, 1000, 10):\n",
    "    sumtime = 0\n",
    "    for j in range(10): \n",
    "        TMtime = np.random.rand(i,i)\n",
    "        TMtimet = np.transpose(TMtime)\n",
    "        TMCtime = np.matmul(TMtimet, TMtime)\n",
    "\n",
    "        tstart = time.time()\n",
    "        chol(TMCtime)\n",
    "        tstop = time.time()\n",
    "        sumtime += tstop - tstart\n",
    "    print(sumtime/10)"
   ]
  },
  {
   "cell_type": "markdown",
   "metadata": {},
   "source": [
    "# Backup code"
   ]
  },
  {
   "cell_type": "markdown",
   "metadata": {},
   "source": [
    "## Raw Cholesky (without optimization for running time)"
   ]
  },
  {
   "cell_type": "code",
   "execution_count": null,
   "metadata": {},
   "outputs": [],
   "source": [
    "def chol_backup(X):\n",
    "    n, m = X.shape\n",
    "    R = np.zeros([n, n])\n",
    "    if m != n: \n",
    "        print('Matrix to process Chol is not square')\n",
    "        return np.zeros([n, n])\n",
    "    for i in range(n):\n",
    "        for j in range(i): \n",
    "            tem = 0\n",
    "            for t in range(j):\n",
    "                tem += R[i][t]*R[j][t]\n",
    "            R[i][j] = (X[i][j] - tem)/R[j][j]\n",
    "        \n",
    "        tem = 0\n",
    "        for t in range(i):\n",
    "            tem += R[i][t]*R[i][t]\n",
    "\n",
    "        if X[i][i] - tem < 0:\n",
    "            print('Cholesky: Matrix is not posdef')\n",
    "            return np.zeros([n, n])\n",
    "        R[i][i] = math.sqrt(X[i][i] - tem)\n",
    "    return R"
   ]
  }
 ],
 "metadata": {
  "kernelspec": {
   "display_name": "Python 3",
   "language": "python",
   "name": "python3"
  },
  "language_info": {
   "codemirror_mode": {
    "name": "ipython",
    "version": 3
   },
   "file_extension": ".py",
   "mimetype": "text/x-python",
   "name": "python",
   "nbconvert_exporter": "python",
   "pygments_lexer": "ipython3",
   "version": "3.7.4"
  }
 },
 "nbformat": 4,
 "nbformat_minor": 2
}
